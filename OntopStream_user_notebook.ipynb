{
 "cells": [
  {
   "cell_type": "markdown",
   "metadata": {},
   "source": [
    "### Install SPARQLWrapper library"
   ]
  },
  {
   "cell_type": "code",
   "execution_count": null,
   "metadata": {},
   "outputs": [],
   "source": [
    "pip install SPARQLWrapper --quiet"
   ]
  },
  {
   "cell_type": "markdown",
   "metadata": {},
   "source": [
    "### Query with CSV output"
   ]
  },
  {
   "cell_type": "code",
   "execution_count": null,
   "metadata": {},
   "outputs": [],
   "source": [
    "# Execute the query (keep the execution running until you want new entries)\n",
    "\n",
    "from SPARQLWrapper import SPARQLWrapper, CSV\n",
    "\n",
    "sparql = SPARQLWrapper(\"http://ontop:8080/sparql\")\n",
    "sparql.setQuery(\"\"\"\n",
    "PREFIX rdf: <http://www.w3.org/1999/02/22-rdf-syntax-ns#>\n",
    "PREFIX rdfs: <http://www.w3.org/2000/01/rdf-schema#>\n",
    "PREFIX : <http://www.semanticweb.org/TaxiRides#>\n",
    "\n",
    "SELECT *\n",
    "\n",
    "FROM NAMED WINDOW :wind1 ON :trips [RANGE PT1M STEP PT1M]\n",
    "\n",
    "WHERE {\n",
    "       ?x a :Ride.\n",
    "       ?x :hasTaxi ?y.\n",
    "}\n",
    "\"\"\")\n",
    "sparql.addParameter(\"streaming-mode\",\"unbounded-buffer\")\n",
    "sparql.setReturnFormat(CSV)\n",
    "results = sparql.query()\n",
    "\n",
    "for result in results:\n",
    "    print(result.decode('utf8'))"
   ]
  },
  {
   "cell_type": "code",
   "execution_count": null,
   "metadata": {},
   "outputs": [],
   "source": [
    "# Stop the execution\n",
    "\n",
    "results.response.close()\n",
    "print(results.response.isclosed())"
   ]
  },
  {
   "cell_type": "markdown",
   "metadata": {},
   "source": [
    "### Query with CSV output, file writing"
   ]
  },
  {
   "cell_type": "code",
   "execution_count": null,
   "metadata": {},
   "outputs": [],
   "source": [
    "# Execute the query (keep the execution running until you want new entries)\n",
    "\n",
    "from SPARQLWrapper import SPARQLWrapper, CSV\n",
    "\n",
    "sparql = SPARQLWrapper(\"http://ontop:8080/sparql\")\n",
    "sparql.setQuery(\"\"\"\n",
    "PREFIX rdf: <http://www.w3.org/1999/02/22-rdf-syntax-ns#>\n",
    "PREFIX rdfs: <http://www.w3.org/2000/01/rdf-schema#>\n",
    "PREFIX : <http://www.semanticweb.org/TaxiRides#>\n",
    "\n",
    "SELECT ?ride ?taxi ?drivingShift ?tip\n",
    "\n",
    "WHERE {\n",
    "      ?ride a :Ride.\n",
    "      ?ride :hasTaxi ?taxi.\n",
    "      ?drivingShift :uses ?taxi.\n",
    "      ?fare :isReferredTo ?ride; :tip ?tip.\n",
    "}\n",
    "\"\"\")\n",
    "sparql.addParameter(\"streaming-mode\",\"unbounded-buffer\")\n",
    "sparql.setReturnFormat(CSV)\n",
    "results = sparql.query()\n",
    "\n",
    "\n",
    "file=open(\"query.csv\", \"w+\")\n",
    "\n",
    "for result in results:\n",
    "    data = result.decode('utf8')\n",
    "    print(data)\n",
    "    file.write(data)"
   ]
  },
  {
   "cell_type": "code",
   "execution_count": null,
   "metadata": {},
   "outputs": [],
   "source": [
    "# Close the file\n",
    "file.close() \n",
    "\n",
    "# Stop the execution\n",
    "\n",
    "results.response.close()\n",
    "print(results.response.isclosed())"
   ]
  },
  {
   "cell_type": "markdown",
   "metadata": {},
   "source": [
    "### Query with JSON output"
   ]
  },
  {
   "cell_type": "code",
   "execution_count": null,
   "metadata": {},
   "outputs": [],
   "source": [
    "from SPARQLWrapper import SPARQLWrapper, JSON\n",
    "\n",
    "sparql = SPARQLWrapper(\"http://ontop:8080/sparql\")\n",
    "sparql.setQuery(\"\"\"\n",
    "PREFIX rdf: <http://www.w3.org/1999/02/22-rdf-syntax-ns#>\n",
    "PREFIX rdfs: <http://www.w3.org/2000/01/rdf-schema#>\n",
    "PREFIX : <http://www.semanticweb.org/TaxiRides#>\n",
    "\n",
    "SELECT *\n",
    "WHERE {\n",
    "       ?x a :Ride.\n",
    "       ?x :hasTaxi ?y.\n",
    "}\n",
    "\"\"\")\n",
    "sparql.addParameter(\"streaming-mode\",\"single-element\")\n",
    "sparql.setReturnFormat(JSON)\n",
    "results = sparql.query()\n",
    "\n",
    "for result in results:\n",
    "    print(result.decode('utf8'))"
   ]
  },
  {
   "cell_type": "code",
   "execution_count": null,
   "metadata": {},
   "outputs": [],
   "source": [
    "# Stop the execution\n",
    "\n",
    "results.response.close()\n",
    "print(results.response.isclosed())"
   ]
  },
  {
   "cell_type": "markdown",
   "metadata": {},
   "source": [
    "### Query with JSONL output (reccomended) , file writing"
   ]
  },
  {
   "cell_type": "code",
   "execution_count": null,
   "metadata": {},
   "outputs": [],
   "source": [
    "from SPARQLWrapper import SPARQLWrapper, JSON\n",
    "\n",
    "sparql = SPARQLWrapper(\"http://ontop:8080/sparql\")\n",
    "sparql.setQuery(\"\"\"\n",
    "PREFIX rdf: <http://www.w3.org/1999/02/22-rdf-syntax-ns#>\n",
    "PREFIX rdfs: <http://www.w3.org/2000/01/rdf-schema#>\n",
    "PREFIX : <http://www.semanticweb.org/TaxiRides#>\n",
    "\n",
    "SELECT *\n",
    "FROM NAMED WINDOW :wind1 ON :trips [RANGE PT1M STEP PT1M]\n",
    "WHERE {\n",
    "       ?x a ?z.\n",
    "       ?x :hasTaxi ?y.\n",
    "}\n",
    "\"\"\")\n",
    "sparql.addParameter(\"streaming-mode\",\"single-element\")\n",
    "sparql.addParameter(\"json\",\"jsonl\")\n",
    "sparql.setReturnFormat(JSON)\n",
    "results = sparql.query()\n",
    "\n",
    "file=open(\"query.jsonl\", \"w+\")\n",
    "\n",
    "for result in results:\n",
    "    data = result.decode('utf8')\n",
    "    print(data)\n",
    "    file.write(data)"
   ]
  },
  {
   "cell_type": "code",
   "execution_count": null,
   "metadata": {},
   "outputs": [],
   "source": [
    "# Stop the execution\n",
    "\n",
    "results.response.close()\n",
    "print(results.response.isclosed())"
   ]
  },
  {
   "cell_type": "markdown",
   "metadata": {},
   "source": [
    "### Query with TSV output"
   ]
  },
  {
   "cell_type": "code",
   "execution_count": null,
   "metadata": {},
   "outputs": [],
   "source": [
    "from SPARQLWrapper import SPARQLWrapper\n",
    "\n",
    "sparql = SPARQLWrapper(\"http://ontop:8080/sparql\")\n",
    "sparql.setQuery(\"\"\"\n",
    "PREFIX rdf: <http://www.w3.org/1999/02/22-rdf-syntax-ns#>\n",
    "PREFIX rdfs: <http://www.w3.org/2000/01/rdf-schema#>\n",
    "PREFIX : <http://www.semanticweb.org/TaxiRides#>\n",
    "\n",
    "SELECT *\n",
    "WHERE {\n",
    "       ?x a :Ride.\n",
    "       ?x :hasTaxi ?y.\n",
    "}\n",
    "\"\"\")\n",
    "sparql.setReturnFormat(\"tsv\")\n",
    "results = sparql.query()\n",
    "\n",
    "file=open(\"query.txt\", \"w+\")\n",
    "\n",
    "for result in results:\n",
    "    data = result.decode('utf8')\n",
    "    print(data)\n",
    "    file.write(data)"
   ]
  },
  {
   "cell_type": "code",
   "execution_count": null,
   "metadata": {},
   "outputs": [],
   "source": [
    "# Stop the execution\n",
    "\n",
    "results.response.close()\n",
    "print(results.response.isclosed())"
   ]
  }
 ],
 "metadata": {
  "kernelspec": {
   "display_name": "Python 3",
   "language": "python",
   "name": "python3"
  },
  "language_info": {
   "codemirror_mode": {
    "name": "ipython",
    "version": 3
   },
   "file_extension": ".py",
   "mimetype": "text/x-python",
   "name": "python",
   "nbconvert_exporter": "python",
   "pygments_lexer": "ipython3",
   "version": "3.8.6"
  }
 },
 "nbformat": 4,
 "nbformat_minor": 2
}
