{
 "cells": [
  {
   "cell_type": "markdown",
   "metadata": {},
   "source": [
    "### Install SPARQLWrapper library"
   ]
  },
  {
   "cell_type": "code",
   "execution_count": null,
   "metadata": {},
   "outputs": [],
   "source": [
    "pip install SPARQLWrapper --quiet"
   ]
  },
  {
   "cell_type": "markdown",
   "metadata": {},
   "source": [
    "### Notes\n",
    "\n",
    "Be careful when executing `print ()` commands, as they may cause jupyter overhead due to too many results\n",
    "\n",
    "Saving the data in a file is more safer"
   ]
  },
  {
   "cell_type": "markdown",
   "metadata": {},
   "source": [
    "### Query with CSV output, window operator"
   ]
  },
  {
   "cell_type": "code",
   "execution_count": null,
   "metadata": {},
   "outputs": [],
   "source": [
    "# Execute the query (keep the execution running until you want new entries)\n",
    "\n",
    "from SPARQLStreamWrapper import SPARQLStreamWrapper, CSV\n",
    "\n",
    "sparql = SPARQLStreamWrapper(\"http://ontop:8080/sparql\")\n",
    "sparql.setQuery(\"\"\"\n",
    "PREFIX rdf: <http://www.w3.org/1999/02/22-rdf-syntax-ns#>\n",
    "PREFIX rdfs: <http://www.w3.org/2000/01/rdf-schema#>\n",
    "PREFIX : <http://www.semanticweb.org/TaxiRides#>\n",
    "\n",
    "SELECT *\n",
    "FROM NAMED WINDOW :wind1 ON :trips [RANGE PT1M STEP PT1M]\n",
    "WHERE {\n",
    "       ?x a :Ride.\n",
    "       ?x :hasTaxi ?y.\n",
    "}\n",
    "\"\"\")\n",
    "sparql.addParameter(\"streaming-mode\",\"single-element\")\n",
    "sparql.setReturnFormat(CSV)\n",
    "results = sparql.query()\n",
    "\n",
    "try:\n",
    "    for result in results:\n",
    "        print(result.getRawResponse().decode('utf8'))\n",
    "except KeyboardInterrupt:\n",
    "    sparql.endQuery()           # Stop the query execution\n",
    "    print(\"Ended by user\")"
   ]
  },
  {
   "cell_type": "markdown",
   "metadata": {},
   "source": [
    "### Query with CSV output, file writing\n",
    "\n",
    "> Foreach ride, find the driver"
   ]
  },
  {
   "cell_type": "code",
   "execution_count": null,
   "metadata": {},
   "outputs": [],
   "source": [
    "# Execute the query (keep the execution running until you want new entries)\n",
    "\n",
    "from SPARQLStreamWrapper import SPARQLStreamWrapper, CSV\n",
    "import os\n",
    "\n",
    "sparql = SPARQLStreamWrapper(\"http://ontop:8080/sparql\")\n",
    "sparql.setQuery(\"\"\"\n",
    "PREFIX rdf: <http://www.w3.org/1999/02/22-rdf-syntax-ns#>\n",
    "PREFIX rdfs: <http://www.w3.org/2000/01/rdf-schema#>\n",
    "PREFIX : <http://www.semanticweb.org/TaxiRides#>\n",
    "\n",
    "SELECT ?ride ?taxi ?driver\n",
    "WHERE {\n",
    "      ?ride a :Ride.\n",
    "      ?ride :hasTaxi ?taxi.\n",
    "      ?driver a :Driver; :hasShift [:uses ?taxi].\n",
    "}\n",
    "\"\"\")\n",
    "sparql.addParameter(\"streaming-mode\",\"single-element\")\n",
    "sparql.setReturnFormat(CSV)\n",
    "results = sparql.query()\n",
    "\n",
    "\n",
    "file=open(\"query_1.csv\", \"w+\")\n",
    "    \n",
    "try:\n",
    "    for result in results:\n",
    "        data = result.getRawResponse().decode('utf8')\n",
    "        print(data)\n",
    "        file.write(data)        # save the response in a file\n",
    "        file.flush()            # flush the writing operation immediately\n",
    "        os.fsync(file.fileno())\n",
    "except KeyboardInterrupt:\n",
    "    sparql.endQuery()           # Stop the query execution\n",
    "    file.close()                # Close the file\n",
    "    print(\"Ended by user\")"
   ]
  },
  {
   "cell_type": "markdown",
   "metadata": {},
   "source": [
    "### Query with CSV output, file writing\n",
    "\n",
    "> Find the rides already paid (Payments are recorded in the `Fare` table)"
   ]
  },
  {
   "cell_type": "code",
   "execution_count": null,
   "metadata": {},
   "outputs": [],
   "source": [
    "# Execute the query (keep the execution running until you want new entries)\n",
    "\n",
    "from SPARQLStreamWrapper import SPARQLStreamWrapper, CSV\n",
    "import os\n",
    "\n",
    "sparql = SPARQLStreamWrapper(\"http://ontop:8080/sparql\")\n",
    "sparql.setQuery(\"\"\"\n",
    "PREFIX rdf: <http://www.w3.org/1999/02/22-rdf-syntax-ns#>\n",
    "PREFIX rdfs: <http://www.w3.org/2000/01/rdf-schema#>\n",
    "PREFIX : <http://www.semanticweb.org/TaxiRides#>\n",
    "\n",
    "SELECT ?ride ?taxi ?drivingShift ?tip\n",
    "WHERE {\n",
    "      ?ride a :Ride.\n",
    "      ?ride :hasTaxi ?taxi.\n",
    "      ?drivingShift :uses ?taxi.\n",
    "      ?fare :isReferredTo ?ride; :tip ?tip.\n",
    "}\n",
    "\"\"\")\n",
    "sparql.addParameter(\"streaming-mode\",\"single-element\")\n",
    "sparql.setReturnFormat(CSV)\n",
    "results = sparql.query()\n",
    "\n",
    "\n",
    "file=open(\"query_2.csv\", \"w+\")\n",
    "    \n",
    "try:\n",
    "    for result in results:\n",
    "        data = result.getRawResponse().decode('utf8')\n",
    "        print(data)\n",
    "        file.write(data)        # save the response in a file\n",
    "        file.flush()            # flush the writing operation immediately\n",
    "        os.fsync(file.fileno())\n",
    "except KeyboardInterrupt:\n",
    "    sparql.endQuery()           # Stop the query execution\n",
    "    file.close()                # Close the file\n",
    "    print(\"Ended by user\")"
   ]
  },
  {
   "cell_type": "markdown",
   "metadata": {},
   "source": [
    "### Query with JSONLines output, window operator"
   ]
  },
  {
   "cell_type": "code",
   "execution_count": null,
   "metadata": {},
   "outputs": [],
   "source": [
    "from SPARQLStreamWrapper import SPARQLStreamWrapper, JSONL\n",
    "import json\n",
    "\n",
    "sparql = SPARQLStreamWrapper(\"http://ontop:8080/sparql\")\n",
    "sparql.setQuery(\"\"\"\n",
    "PREFIX rdf: <http://www.w3.org/1999/02/22-rdf-syntax-ns#>\n",
    "PREFIX rdfs: <http://www.w3.org/2000/01/rdf-schema#>\n",
    "PREFIX : <http://www.semanticweb.org/TaxiRides#>\n",
    "\n",
    "SELECT ?x ?y ?type\n",
    "FROM NAMED WINDOW :wind1 ON :trips [RANGE PT1M STEP PT1M]\n",
    "WHERE {\n",
    "       ?x a :Ride.\n",
    "       ?x :hasTaxi ?y.\n",
    "       ?y a ?type.\n",
    "}\n",
    "\"\"\")\n",
    "sparql.addParameter(\"streaming-mode\",\"single-element\")\n",
    "sparql.setReturnFormat(JSONL)\n",
    "results = sparql.query()\n",
    "\n",
    "\n",
    "try:\n",
    "    for result in results:\n",
    "        data = json.loads(result.getRawResponse().decode('utf8'))   # translate the response into a python dictionary\n",
    "        print(data)\n",
    "except KeyboardInterrupt:\n",
    "    sparql.endQuery()           # Stop the query execution\n",
    "    print(\"Ended by user\")"
   ]
  },
  {
   "cell_type": "markdown",
   "metadata": {},
   "source": [
    "### Query with JSONL output (reccomended) , file writing"
   ]
  },
  {
   "cell_type": "code",
   "execution_count": null,
   "metadata": {},
   "outputs": [],
   "source": [
    "from SPARQLStreamWrapper import SPARQLStreamWrapper, JSONL\n",
    "import json\n",
    "import os\n",
    "\n",
    "sparql = SPARQLStreamWrapper(\"http://ontop:8080/sparql\")\n",
    "sparql.setQuery(\"\"\"\n",
    "PREFIX rdf: <http://www.w3.org/1999/02/22-rdf-syntax-ns#>\n",
    "PREFIX rdfs: <http://www.w3.org/2000/01/rdf-schema#>\n",
    "PREFIX : <http://www.semanticweb.org/TaxiRides#>\n",
    "\n",
    "SELECT ?ride ?taxi ?drivingShift ?tip\n",
    "WHERE {\n",
    "      ?ride a :Ride.\n",
    "      ?ride :hasTaxi ?taxi.\n",
    "      ?drivingShift :uses ?taxi.\n",
    "      ?fare :isReferredTo ?ride; :tip ?tip.\n",
    "}\n",
    "\"\"\")\n",
    "sparql.addParameter(\"streaming-mode\",\"single-element\")\n",
    "sparql.setReturnFormat(JSONL)\n",
    "results = sparql.query()\n",
    "\n",
    "file=open(\"query.jsonl\", \"w+\")\n",
    "\n",
    "try:\n",
    "    for result in results:\n",
    "        data = json.loads(result.getRawResponse().decode('utf8'))   # translate the response into a python dictionary\n",
    "        #print(data)\n",
    "        file.write(result.getRawResponse().decode('utf8'))          # save the raw JSONLine response in a file\n",
    "        file.flush()                                                # flush the writing operation immediately\n",
    "        os.fsync(file.fileno())\n",
    "except KeyboardInterrupt:\n",
    "    sparql.endQuery()           # Stop the query execution\n",
    "    file.close()                # Close the file\n",
    "    print(\"Ended by user\")"
   ]
  },
  {
   "cell_type": "markdown",
   "metadata": {},
   "source": [
    "### Query with TSV output, file writing"
   ]
  },
  {
   "cell_type": "code",
   "execution_count": null,
   "metadata": {},
   "outputs": [],
   "source": [
    "from SPARQLStreamWrapper import SPARQLStreamWrapper, TSV\n",
    "import os\n",
    "\n",
    "sparql = SPARQLStreamWrapper(\"http://ontop:8080/sparql\")\n",
    "sparql.setQuery(\"\"\"\n",
    "PREFIX rdf: <http://www.w3.org/1999/02/22-rdf-syntax-ns#>\n",
    "PREFIX rdfs: <http://www.w3.org/2000/01/rdf-schema#>\n",
    "PREFIX : <http://www.semanticweb.org/TaxiRides#>\n",
    "\n",
    "SELECT ?x ?y ?type\n",
    "FROM NAMED WINDOW :wind1 ON :trips [RANGE PT1M STEP PT1M]\n",
    "WHERE {\n",
    "       ?x a :Ride.\n",
    "       ?x :hasTaxi ?y.\n",
    "       ?y a ?type.\n",
    "}\n",
    "\"\"\")\n",
    "sparql.addParameter(\"streaming-mode\",\"single-element\")\n",
    "sparql.setReturnFormat(TSV)\n",
    "results = sparql.query()\n",
    "\n",
    "file=open(\"query.tsv\", \"w+\")\n",
    "     \n",
    "try:\n",
    "    for result in results:\n",
    "        data = result.getRawResponse().decode('utf8')\n",
    "        #print(data)\n",
    "        file.write(data)          # save the raw JSONLine response in a file\n",
    "        file.flush()              # flush the writing operation immediately\n",
    "        os.fsync(file.fileno())\n",
    "except KeyboardInterrupt:\n",
    "    sparql.endQuery()             # Stop the query execution\n",
    "    file.close()                  # Close the file\n",
    "    print(\"Ended by user\")"
   ]
  }
 ],
 "metadata": {
  "kernelspec": {
   "display_name": "Python 3 (ipykernel)",
   "language": "python",
   "name": "python3"
  },
  "language_info": {
   "codemirror_mode": {
    "name": "ipython",
    "version": 3
   },
   "file_extension": ".py",
   "mimetype": "text/x-python",
   "name": "python",
   "nbconvert_exporter": "python",
   "pygments_lexer": "ipython3",
   "version": "3.9.7"
  }
 },
 "nbformat": 4,
 "nbformat_minor": 4
}
