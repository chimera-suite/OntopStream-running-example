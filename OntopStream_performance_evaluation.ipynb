{
 "cells": [
  {
   "cell_type": "markdown",
   "metadata": {},
   "source": [
    "### Install SPARQLWrapper library + import libraries"
   ]
  },
  {
   "cell_type": "code",
   "execution_count": null,
   "metadata": {},
   "outputs": [],
   "source": [
    "pip install SPARQLWrapper --quiet"
   ]
  },
  {
   "cell_type": "code",
   "execution_count": null,
   "metadata": {},
   "outputs": [],
   "source": [
    "import time"
   ]
  },
  {
   "cell_type": "markdown",
   "metadata": {},
   "source": [
    "### Q1 - S-OBDA basic test (1 mapped table)"
   ]
  },
  {
   "cell_type": "code",
   "execution_count": null,
   "metadata": {},
   "outputs": [],
   "source": [
    "# Execute the query (keep the execution running until you want new entries)\n",
    "\n",
    "from SPARQLWrapper import SPARQLWrapper, CSV\n",
    "\n",
    "start = time.time()  # start execution time\n",
    "\n",
    "sparql = SPARQLWrapper(\"http://ontop:8080/sparql\")\n",
    "sparql.setQuery(\"\"\"\n",
    "PREFIX rdf: <http://www.w3.org/1999/02/22-rdf-syntax-ns#>\n",
    "PREFIX rdfs: <http://www.w3.org/2000/01/rdf-schema#>\n",
    "PREFIX : <http://www.semanticweb.org/TaxiRides#>\n",
    "\n",
    "SELECT *\n",
    "WHERE {\n",
    "      ?ride a :Ride.\n",
    "}\n",
    "\"\"\")\n",
    "sparql.addParameter(\"streaming-mode\",\"unbounded-buffer\")\n",
    "sparql.setReturnFormat(CSV)\n",
    "results = sparql.query()\n",
    "\n",
    "\n",
    "file=open(\"Q1.csv\", \"w+\")\n",
    "\n",
    "for result in results:\n",
    "    data = result.decode('utf8')\n",
    "    #print(data)\n",
    "    file.write(str(int((time.time()-start)*1000)) + \",\" + data)  # (writing time - start time) + data"
   ]
  },
  {
   "cell_type": "code",
   "execution_count": null,
   "metadata": {},
   "outputs": [],
   "source": [
    "# Close the file\n",
    "file.close() \n",
    "\n",
    "# Stop the execution\n",
    "\n",
    "results.response.close()\n",
    "print(results.response.isclosed())"
   ]
  },
  {
   "cell_type": "markdown",
   "metadata": {},
   "source": [
    "### Q2 - 2 mapped tables"
   ]
  },
  {
   "cell_type": "code",
   "execution_count": null,
   "metadata": {},
   "outputs": [],
   "source": [
    "# Execute the query (keep the execution running until you want new entries)\n",
    "\n",
    "from SPARQLWrapper import SPARQLWrapper, CSV\n",
    "\n",
    "start = time.time()  # start execution time\n",
    "\n",
    "sparql = SPARQLWrapper(\"http://ontop:8080/sparql\")\n",
    "sparql.setQuery(\"\"\"\n",
    "PREFIX rdf: <http://www.w3.org/1999/02/22-rdf-syntax-ns#>\n",
    "PREFIX rdfs: <http://www.w3.org/2000/01/rdf-schema#>\n",
    "PREFIX : <http://www.semanticweb.org/TaxiRides#>\n",
    "\n",
    "SELECT *\n",
    "WHERE {\n",
    "      ?ride a :Ride.\n",
    "      ?ride :hasTaxi ?taxi.\n",
    "}\n",
    "\"\"\")\n",
    "sparql.addParameter(\"streaming-mode\",\"unbounded-buffer\")\n",
    "sparql.setReturnFormat(CSV)\n",
    "results = sparql.query()\n",
    "\n",
    "\n",
    "file=open(\"Q2.csv\", \"w+\")\n",
    "\n",
    "for result in results:\n",
    "    data = result.decode('utf8')\n",
    "    #print(data)\n",
    "    file.write(str(int((time.time()-start)*1000)) + \",\" + data)  # (writing time - start time) + data"
   ]
  },
  {
   "cell_type": "code",
   "execution_count": null,
   "metadata": {},
   "outputs": [],
   "source": [
    "# Close the file\n",
    "file.close() \n",
    "\n",
    "# Stop the execution\n",
    "\n",
    "results.response.close()\n",
    "print(results.response.isclosed())"
   ]
  },
  {
   "cell_type": "markdown",
   "metadata": {},
   "source": [
    "### Q3 - Stream Reasoning (?taxi is mapped only as a :Taxi element)"
   ]
  },
  {
   "cell_type": "code",
   "execution_count": null,
   "metadata": {},
   "outputs": [],
   "source": [
    "# Execute the query (keep the execution running until you want new entries)\n",
    "\n",
    "from SPARQLWrapper import SPARQLWrapper, CSV\n",
    "\n",
    "start = time.time()  # start execution time\n",
    "\n",
    "sparql = SPARQLWrapper(\"http://ontop:8080/sparql\")\n",
    "sparql.setQuery(\"\"\"\n",
    "PREFIX rdf: <http://www.w3.org/1999/02/22-rdf-syntax-ns#>\n",
    "PREFIX rdfs: <http://www.w3.org/2000/01/rdf-schema#>\n",
    "PREFIX : <http://www.semanticweb.org/TaxiRides#>\n",
    "\n",
    "SELECT *\n",
    "WHERE {\n",
    "      ?ride a :Ride.\n",
    "      ?ride :hasTaxi ?taxi.\n",
    "      ?taxi a ?carType\n",
    "}\n",
    "\"\"\")\n",
    "sparql.addParameter(\"streaming-mode\",\"unbounded-buffer\")\n",
    "sparql.setReturnFormat(CSV)\n",
    "results = sparql.query()\n",
    "\n",
    "\n",
    "file=open(\"Q3.csv\", \"w+\")\n",
    "\n",
    "for result in results:\n",
    "    data = result.decode('utf8')\n",
    "    #print(data)\n",
    "    file.write(str(int((time.time()-start)*1000)) + \",\" + data)  # (writing time - start time) + data"
   ]
  },
  {
   "cell_type": "code",
   "execution_count": null,
   "metadata": {},
   "outputs": [],
   "source": [
    "# Close the file\n",
    "file.close() \n",
    "\n",
    "# Stop the execution\n",
    "\n",
    "results.response.close()\n",
    "print(results.response.isclosed())"
   ]
  },
  {
   "cell_type": "markdown",
   "metadata": {},
   "source": [
    "### Q4 - FILTER() contdition"
   ]
  },
  {
   "cell_type": "code",
   "execution_count": null,
   "metadata": {},
   "outputs": [],
   "source": [
    "# Execute the query (keep the execution running until you want new entries)\n",
    "\n",
    "from SPARQLWrapper import SPARQLWrapper, CSV\n",
    "\n",
    "start = time.time()  # start execution time\n",
    "\n",
    "sparql = SPARQLWrapper(\"http://ontop:8080/sparql\")\n",
    "sparql.setQuery(\"\"\"\n",
    "PREFIX rdf: <http://www.w3.org/1999/02/22-rdf-syntax-ns#>\n",
    "PREFIX rdfs: <http://www.w3.org/2000/01/rdf-schema#>\n",
    "PREFIX : <http://www.semanticweb.org/TaxiRides#>\n",
    "\n",
    "SELECT ?taxi ?ride ?tip\n",
    "WHERE {\n",
    "      ?ride a :Ride.\n",
    "      ?ride :hasTaxi ?taxi.\n",
    "      ?fare :isReferredTo ?ride; :tip ?tip.\n",
    "      FILTER (?tip >= 1.5)\n",
    "}\n",
    "\"\"\")\n",
    "sparql.addParameter(\"streaming-mode\",\"unbounded-buffer\")\n",
    "sparql.setReturnFormat(CSV)\n",
    "results = sparql.query()\n",
    "\n",
    "\n",
    "file=open(\"Q4.csv\", \"w+\")\n",
    "\n",
    "for result in results:\n",
    "    data = result.decode('utf8')\n",
    "    #print(data)\n",
    "    file.write(str(int((time.time()-start)*1000)) + \",\" + data)  # (writing time - start time) + data"
   ]
  },
  {
   "cell_type": "code",
   "execution_count": null,
   "metadata": {},
   "outputs": [],
   "source": [
    "# Close the file\n",
    "file.close() \n",
    "\n",
    "# Stop the execution\n",
    "\n",
    "results.response.close()\n",
    "print(results.response.isclosed())"
   ]
  },
  {
   "cell_type": "markdown",
   "metadata": {},
   "source": [
    "### Q5 - 3 mappings"
   ]
  },
  {
   "cell_type": "code",
   "execution_count": null,
   "metadata": {},
   "outputs": [],
   "source": [
    "# Execute the query (keep the execution running until you want new entries)\n",
    "\n",
    "from SPARQLWrapper import SPARQLWrapper, CSV\n",
    "\n",
    "start = time.time()  # start execution time\n",
    "\n",
    "sparql = SPARQLWrapper(\"http://ontop:8080/sparql\")\n",
    "sparql.setQuery(\"\"\"\n",
    "PREFIX rdf: <http://www.w3.org/1999/02/22-rdf-syntax-ns#>\n",
    "PREFIX rdfs: <http://www.w3.org/2000/01/rdf-schema#>\n",
    "PREFIX : <http://www.semanticweb.org/TaxiRides#>\n",
    "\n",
    "SELECT ?driverId ?drivingShift ?taxi ?ride ?tip\n",
    "WHERE {\n",
    "      ?ride a :Ride.\n",
    "      ?ride :hasTaxi ?taxi.\n",
    "      ?drivingShift :uses ?taxi.\n",
    "      ?driverId a :Driver; :hasShift ?drivingShift.\n",
    "      ?fare :isReferredTo ?ride; :tip ?tip.\n",
    "}\n",
    "\"\"\")\n",
    "sparql.addParameter(\"streaming-mode\",\"unbounded-buffer\")\n",
    "sparql.setReturnFormat(CSV)\n",
    "results = sparql.query()\n",
    "\n",
    "\n",
    "file=open(\"Q5.csv\", \"w+\")\n",
    "\n",
    "for result in results:\n",
    "    data = result.decode('utf8')\n",
    "    #print(data)\n",
    "    file.write(str(int((time.time()-start)*1000)) + \",\" + data)  # (writing time - start time) + data"
   ]
  },
  {
   "cell_type": "code",
   "execution_count": null,
   "metadata": {},
   "outputs": [],
   "source": [
    "# Close the file\n",
    "file.close() \n",
    "\n",
    "# Stop the execution\n",
    "\n",
    "results.response.close()\n",
    "print(results.response.isclosed())"
   ]
  },
  {
   "cell_type": "markdown",
   "metadata": {},
   "source": [
    "### Q6 - Subjects and Objects"
   ]
  },
  {
   "cell_type": "code",
   "execution_count": null,
   "metadata": {},
   "outputs": [],
   "source": [
    "# Execute the query (keep the execution running until you want new entries)\n",
    "\n",
    "from SPARQLWrapper import SPARQLWrapper, CSV\n",
    "\n",
    "start = time.time()  # start execution time\n",
    "\n",
    "sparql = SPARQLWrapper(\"http://ontop:8080/sparql\")\n",
    "sparql.setQuery(\"\"\"\n",
    "PREFIX rdf: <http://www.w3.org/1999/02/22-rdf-syntax-ns#>\n",
    "PREFIX rdfs: <http://www.w3.org/2000/01/rdf-schema#>\n",
    "PREFIX : <http://www.semanticweb.org/TaxiRides#>\n",
    "\n",
    "SELECT *\n",
    "WHERE {\n",
    "      ?s a ?o.\n",
    "}\n",
    "\"\"\")\n",
    "sparql.addParameter(\"streaming-mode\",\"unbounded-buffer\")\n",
    "sparql.setReturnFormat(CSV)\n",
    "results = sparql.query()\n",
    "\n",
    "\n",
    "file=open(\"Q6.csv\", \"w+\")\n",
    "\n",
    "for result in results:\n",
    "    data = result.decode('utf8')\n",
    "    #print(data)\n",
    "    file.write(str(int((time.time()-start)*1000)) + \",\" + data)  # (writing time - start time) + data"
   ]
  },
  {
   "cell_type": "code",
   "execution_count": null,
   "metadata": {},
   "outputs": [],
   "source": [
    "# Close the file\n",
    "file.close() \n",
    "\n",
    "# Stop the execution\n",
    "\n",
    "results.response.close()\n",
    "print(results.response.isclosed())"
   ]
  },
  {
   "cell_type": "markdown",
   "metadata": {},
   "source": [
    "### Q7 - All <s,p,o> triples"
   ]
  },
  {
   "cell_type": "code",
   "execution_count": null,
   "metadata": {
    "scrolled": true
   },
   "outputs": [],
   "source": [
    "# Execute the query (keep the execution running until you want new entries)\n",
    "\n",
    "from SPARQLWrapper import SPARQLWrapper, CSV\n",
    "\n",
    "start = time.time()  # start execution time\n",
    "\n",
    "sparql = SPARQLWrapper(\"http://ontop:8080/sparql\")\n",
    "sparql.setQuery(\"\"\"\n",
    "PREFIX rdf: <http://www.w3.org/1999/02/22-rdf-syntax-ns#>\n",
    "PREFIX rdfs: <http://www.w3.org/2000/01/rdf-schema#>\n",
    "PREFIX : <http://www.semanticweb.org/TaxiRides#>\n",
    "\n",
    "SELECT *\n",
    "WHERE {\n",
    "      ?s ?p ?o.\n",
    "}\n",
    "\"\"\")\n",
    "sparql.addParameter(\"streaming-mode\",\"unbounded-buffer\")\n",
    "sparql.setReturnFormat(CSV)\n",
    "results = sparql.query()\n",
    "\n",
    "\n",
    "file=open(\"Q7.csv\", \"w+\")\n",
    "\n",
    "for result in results:\n",
    "    data = result.decode('utf8')\n",
    "    #print(data)\n",
    "    file.write(str(int((time.time()-start)*1000)) + \",\" + data)  # (writing time - start time) + data"
   ]
  },
  {
   "cell_type": "code",
   "execution_count": null,
   "metadata": {
    "scrolled": true
   },
   "outputs": [],
   "source": [
    "# Close the file\n",
    "file.close() \n",
    "\n",
    "# Stop the execution\n",
    "\n",
    "results.response.close()\n",
    "print(results.response.isclosed())"
   ]
  }
 ],
 "metadata": {
  "kernelspec": {
   "display_name": "Python 3",
   "language": "python",
   "name": "python3"
  },
  "language_info": {
   "codemirror_mode": {
    "name": "ipython",
    "version": 3
   },
   "file_extension": ".py",
   "mimetype": "text/x-python",
   "name": "python",
   "nbconvert_exporter": "python",
   "pygments_lexer": "ipython3",
   "version": "3.8.6"
  }
 },
 "nbformat": 4,
 "nbformat_minor": 2
}
